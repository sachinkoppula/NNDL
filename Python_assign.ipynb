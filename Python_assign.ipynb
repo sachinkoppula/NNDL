{
  "nbformat": 4,
  "nbformat_minor": 0,
  "metadata": {
    "colab": {
      "name": "Python assign",
      "provenance": [],
      "collapsed_sections": []
    },
    "kernelspec": {
      "display_name": "Python 3",
      "name": "python3"
    },
    "language_info": {
      "name": "python"
    }
  },
  "cells": [
    {
      "cell_type": "code",
      "metadata": {
        "colab": {
          "base_uri": "https://localhost:8080/"
        },
        "id": "YQkN7ZFnyxiW",
        "outputId": "5aefeb6a-77e2-462d-d7e8-4a75b590edd3"
      },
      "source": [
        "# 5\n",
        "def eligibility(a):\n",
        "  if a>=18:\n",
        "    return \"Eligible to vote\"\n",
        "  else:\n",
        "    return \"Not eligible to vote\"\n",
        "a=int(input(\"Enter age of a person : \"))\n",
        "print(eligibility(a))"
      ],
      "execution_count": null,
      "outputs": [
        {
          "name": "stdout",
          "output_type": "stream",
          "text": [
            "Enter age of a person : 17\n",
            "Not eligible to vote\n"
          ]
        }
      ]
    },
    {
      "cell_type": "code",
      "metadata": {
        "colab": {
          "base_uri": "https://localhost:8080/"
        },
        "id": "6Kj82yEHqMqB",
        "outputId": "d91b09be-98f9-4bff-c1d6-4417ee3a4804"
      },
      "source": [
        "# 4\n",
        "def grades(m):\n",
        "  if m>=90:\n",
        "    return \"O - Outstanding\"\n",
        "  elif m>=80 and m<90:\n",
        "    return \"Grade A+\"\n",
        "  elif m>=70 and m<80:\n",
        "    return \"Grade A\"\n",
        "  elif m>=60 and m<70:\n",
        "    return \"Grade B\"\n",
        "  else:\n",
        "    return \"Grade C\"\n",
        "m=int(input())\n",
        "print(grades(m))"
      ],
      "execution_count": 74,
      "outputs": [
        {
          "output_type": "stream",
          "name": "stdout",
          "text": [
            "85\n",
            "Grade A+\n"
          ]
        }
      ]
    },
    {
      "cell_type": "code",
      "metadata": {
        "colab": {
          "base_uri": "https://localhost:8080/"
        },
        "id": "8r4Cl-Ir0tCV",
        "outputId": "3ebaf0b2-e5c9-4a60-a0ea-5360b40d0c07"
      },
      "source": [
        "# 6\n",
        "def elements(s):\n",
        "  l=[]\n",
        "  for i in s:\n",
        "    l.append(int(i))\n",
        "  return l\n",
        "s=input()\n",
        "print(elements(s))"
      ],
      "execution_count": 50,
      "outputs": [
        {
          "output_type": "stream",
          "name": "stdout",
          "text": [
            "2001\n",
            "[2, 0, 0, 1]\n"
          ]
        }
      ]
    },
    {
      "cell_type": "code",
      "metadata": {
        "colab": {
          "base_uri": "https://localhost:8080/"
        },
        "id": "Ootm1z122dJi",
        "outputId": "ac524b44-18c4-44b0-f243-09d4e5f65671"
      },
      "source": [
        "# 7\n",
        "def pal(s):\n",
        "  if s==s[::-1]:\n",
        "    return \"Palindrome\"\n",
        "  else:\n",
        "    return \"Not palindrome\"\n",
        "s=input()\n",
        "print(pal(s))"
      ],
      "execution_count": null,
      "outputs": [
        {
          "name": "stdout",
          "output_type": "stream",
          "text": [
            "vineeniv\n",
            "Palindrome\n"
          ]
        }
      ]
    },
    {
      "cell_type": "code",
      "metadata": {
        "colab": {
          "base_uri": "https://localhost:8080/"
        },
        "id": "yOTJDErQju9F",
        "outputId": "44d7e587-5075-484e-c36a-ec3cb3ccc3b2"
      },
      "source": [
        "# 8\n",
        "def armstrong(n):\n",
        "  l=[]\n",
        "  s=str(n)\n",
        "  for j in range(len(s)):\n",
        "    x=int(s[j])**len(s)\n",
        "    l.append(x)\n",
        "  s1=sum(l)\n",
        "  if s1==int(s):\n",
        "    return \"Armstrong number\"\n",
        "  else:\n",
        "    return \"Not an Armstrong number\"\n",
        "n=int(input())\n",
        "print(armstrong(n))"
      ],
      "execution_count": 57,
      "outputs": [
        {
          "output_type": "stream",
          "name": "stdout",
          "text": [
            "153\n",
            "Armstrong number\n"
          ]
        }
      ]
    },
    {
      "cell_type": "code",
      "metadata": {
        "colab": {
          "base_uri": "https://localhost:8080/"
        },
        "id": "hlK6QoKfk6E3",
        "outputId": "cb9235a3-9ea9-44b1-a69d-2bc54b05ed08"
      },
      "source": [
        "# 9\n",
        "def fibonacci(n):\n",
        "  f1=0\n",
        "  f2=1\n",
        "  c=0\n",
        "  l=[]\n",
        "  if n==1:\n",
        "    return f1\n",
        "  elif n>1:\n",
        "    while c<n:\n",
        "      l.append(f1)\n",
        "      f3=f1+f2\n",
        "      f1=f2\n",
        "      f2=f3\n",
        "      c+=1\n",
        "  return l\n",
        "n=int(input())\n",
        "print(fibonacci(n))"
      ],
      "execution_count": 63,
      "outputs": [
        {
          "output_type": "stream",
          "name": "stdout",
          "text": [
            "10\n",
            "[0, 1, 1, 2, 3, 5, 8, 13, 21, 34]\n"
          ]
        }
      ]
    },
    {
      "cell_type": "code",
      "metadata": {
        "colab": {
          "base_uri": "https://localhost:8080/"
        },
        "id": "YBPaYoW2pI1U",
        "outputId": "2940a13a-9268-4bda-9319-cd1c4f4796f3"
      },
      "source": [
        "# 10\n",
        "def cuboid(l,b,h):\n",
        "  v=l*b*h\n",
        "  p=4*(l+b+h)\n",
        "  return v,p\n",
        "l=int(input())\n",
        "b=int(input())\n",
        "h=int(input())\n",
        "print(cuboid(l,b,h))"
      ],
      "execution_count": 66,
      "outputs": [
        {
          "output_type": "stream",
          "name": "stdout",
          "text": [
            "3\n",
            "2\n",
            "5\n",
            "(30, 40)\n"
          ]
        }
      ]
    },
    {
      "cell_type": "code",
      "metadata": {
        "colab": {
          "base_uri": "https://localhost:8080/"
        },
        "id": "Jjl350Tm3H3z",
        "outputId": "73c9ac6a-295d-4a9b-c294-4373cd2304d4"
      },
      "source": [
        "# 12.\n",
        "l=[1,2,3,4,5,6,7,8,9,10]\n",
        "for i in range(len(l)):\n",
        "  if l[i]%2==0:\n",
        "    print(l[i],end=\" \")"
      ],
      "execution_count": null,
      "outputs": [
        {
          "name": "stdout",
          "output_type": "stream",
          "text": [
            "2 4 6 8 10 "
          ]
        }
      ]
    },
    {
      "cell_type": "code",
      "metadata": {
        "colab": {
          "base_uri": "https://localhost:8080/"
        },
        "id": "lyRcRzqG4au9",
        "outputId": "33593129-6623-46bd-8e92-508ffbb97aec"
      },
      "source": [
        "# 13\n",
        "n=int(input())\n",
        "for i in range(n):\n",
        "  if i%2==0:\n",
        "    print(i,end=\" \")"
      ],
      "execution_count": null,
      "outputs": [
        {
          "name": "stdout",
          "output_type": "stream",
          "text": [
            "20\n",
            "0 2 4 6 8 10 12 14 16 18 "
          ]
        }
      ]
    },
    {
      "cell_type": "code",
      "metadata": {
        "colab": {
          "base_uri": "https://localhost:8080/"
        },
        "id": "pao_Fn3J45Ae",
        "outputId": "fb3246b1-d33e-4791-869d-37c4de793c26"
      },
      "source": [
        "# 16\n",
        "def odd_ind(s):\n",
        "  l=[]\n",
        "  for i in range(len(s)):\n",
        "    if i%2!=0:\n",
        "      l.append(s[i])\n",
        "  x=\"\".join(l)\n",
        "  return x\n",
        "s=input()\n",
        "print(odd_ind(s))"
      ],
      "execution_count": 49,
      "outputs": [
        {
          "output_type": "stream",
          "name": "stdout",
          "text": [
            "Welcome to Python Exam\n",
            "ecm oPto xm\n"
          ]
        }
      ]
    },
    {
      "cell_type": "code",
      "metadata": {
        "colab": {
          "base_uri": "https://localhost:8080/"
        },
        "id": "efAsiwSXhh97",
        "outputId": "99c2a4d0-aff5-455d-b3ce-904039062c7c"
      },
      "source": [
        "# 20\n",
        "def odd_ele(n):\n",
        "  s=0\n",
        "  for i in range(n):\n",
        "    if i%2!=0:\n",
        "      s+=i\n",
        "  return s\n",
        "n=int(input())\n",
        "print(odd_ele(n))"
      ],
      "execution_count": 46,
      "outputs": [
        {
          "output_type": "stream",
          "name": "stdout",
          "text": [
            "10\n",
            "25\n"
          ]
        }
      ]
    },
    {
      "cell_type": "code",
      "metadata": {
        "colab": {
          "base_uri": "https://localhost:8080/"
        },
        "id": "moQa87eo6nNX",
        "outputId": "7e05910b-097f-4bc2-8116-9859ba46ae14"
      },
      "source": [
        "# 22\n",
        "l=[\"Finland\",\"Germany\",\"Sweden\",\"Ireland\",\"Turkey\"]\n",
        "a=\"and\"\n",
        "l1=[]\n",
        "for i in range(len(l)):\n",
        "  if a in l[i]:\n",
        "    l1.append(l[i])\n",
        "print(l1)"
      ],
      "execution_count": null,
      "outputs": [
        {
          "name": "stdout",
          "output_type": "stream",
          "text": [
            "['Finland', 'Ireland']\n"
          ]
        }
      ]
    },
    {
      "cell_type": "code",
      "metadata": {
        "colab": {
          "base_uri": "https://localhost:8080/"
        },
        "id": "EErFRdcN7fUk",
        "outputId": "58d83297-cf72-409c-fca5-05c2e7690be1"
      },
      "source": [
        "# 21\n",
        "f=[\"Apple\",\"Banana\",\"Pear\",\"Apricot\",\"Orange\",\"Avocado\",\"Breadfruit\",\"Acerola\"]\n",
        "l=[]\n",
        "for i in range(len(f)):\n",
        "  if f[i][0]==\"A\" or f[i][0]=='a':\n",
        "    l.append(f[i])\n",
        "print(l)"
      ],
      "execution_count": null,
      "outputs": [
        {
          "name": "stdout",
          "output_type": "stream",
          "text": [
            "['Apple', 'Apricot', 'Avocado', 'Acerola']\n"
          ]
        }
      ]
    },
    {
      "cell_type": "code",
      "metadata": {
        "colab": {
          "base_uri": "https://localhost:8080/"
        },
        "id": "S6WtBEMG8NQI",
        "outputId": "2b64e276-0c8d-4666-d7b5-c43ca38429d3"
      },
      "source": [
        "# 23\n",
        "l=[25,12,33,12,8,10]\n",
        "s=0\n",
        "for i in range(len(l)):\n",
        "  s+=l[i]\n",
        "print(s)"
      ],
      "execution_count": null,
      "outputs": [
        {
          "name": "stdout",
          "output_type": "stream",
          "text": [
            "100\n"
          ]
        }
      ]
    },
    {
      "cell_type": "code",
      "metadata": {
        "colab": {
          "base_uri": "https://localhost:8080/"
        },
        "id": "4vO9x41R8zGb",
        "outputId": "517dd028-bb9d-44cb-caf6-553244b244cb"
      },
      "source": [
        "# 24\n",
        "l=[1,2,5,4,8,10,13,15,18,30]\n",
        "for i in range(len(l)):\n",
        "  if l[i]%5!=0:\n",
        "    print(l[i],end=\" \")"
      ],
      "execution_count": null,
      "outputs": [
        {
          "name": "stdout",
          "output_type": "stream",
          "text": [
            "1 2 4 8 13 18 "
          ]
        }
      ]
    },
    {
      "cell_type": "code",
      "metadata": {
        "colab": {
          "background_save": true
        },
        "id": "wZ_XjFym9G8X",
        "outputId": "a697cb82-c7fb-4ea4-cc11-75da6f70b879"
      },
      "source": [
        "# 25\n",
        "l=[1,2,5,4,8,10,12,15,18,30]\n",
        "for i in range(len(l)):\n",
        "  s=l[i]**2\n",
        "  print(s,end=\" \")"
      ],
      "execution_count": null,
      "outputs": [
        {
          "name": "stdout",
          "output_type": "stream",
          "text": [
            "1 4 25 16 64 100 144 225 324 900 "
          ]
        }
      ]
    },
    {
      "cell_type": "code",
      "metadata": {
        "colab": {
          "base_uri": "https://localhost:8080/"
        },
        "id": "jDTEvTFXn2VF",
        "outputId": "f533752c-b665-47bd-cf02-c4fb10dbd869"
      },
      "source": [
        "# 26\n",
        "c=int(input())\n",
        "f=(c*1.8)+32\n",
        "print(f)"
      ],
      "execution_count": null,
      "outputs": [
        {
          "output_type": "stream",
          "name": "stdout",
          "text": [
            "4\n",
            "39.2\n"
          ]
        }
      ]
    },
    {
      "cell_type": "code",
      "metadata": {
        "colab": {
          "base_uri": "https://localhost:8080/"
        },
        "id": "KEYERpaLoA1G",
        "outputId": "c593e445-54cb-45e3-b0c7-7353b5b02798"
      },
      "source": [
        "# 27\n",
        "n=int(input())\n",
        "s=0\n",
        "for i in range(1,n+1):\n",
        "  s+=(i**2)\n",
        "print(s)"
      ],
      "execution_count": null,
      "outputs": [
        {
          "output_type": "stream",
          "name": "stdout",
          "text": [
            "5\n",
            "55\n"
          ]
        }
      ]
    },
    {
      "cell_type": "code",
      "metadata": {
        "colab": {
          "base_uri": "https://localhost:8080/"
        },
        "id": "lapWqxL_fBam",
        "outputId": "aac31e20-74d5-433a-8b8c-babf93058695"
      },
      "source": [
        "#28\n",
        "n=int(input())\n",
        "for i in range(1,11):\n",
        "  print(n,\"x\",i,\"=\",n*i)"
      ],
      "execution_count": null,
      "outputs": [
        {
          "output_type": "stream",
          "name": "stdout",
          "text": [
            "5\n",
            "5 x 1 = 5\n",
            "5 x 2 = 10\n",
            "5 x 3 = 15\n",
            "5 x 4 = 20\n",
            "5 x 5 = 25\n",
            "5 x 6 = 30\n",
            "5 x 7 = 35\n",
            "5 x 8 = 40\n",
            "5 x 9 = 45\n",
            "5 x 10 = 50\n"
          ]
        }
      ]
    },
    {
      "cell_type": "code",
      "metadata": {
        "id": "MaTeIfweo1Tx",
        "colab": {
          "base_uri": "https://localhost:8080/"
        },
        "outputId": "d9a3ee53-35cf-4632-cb87-39c21e116e43"
      },
      "source": [
        "# 29\n",
        "def prime(n):\n",
        "  l=[]\n",
        "  for i in range(1,n+1):\n",
        "    f=False\n",
        "    if i>1:\n",
        "      for j in range(2,i):\n",
        "        if i%j==0:\n",
        "          f=True\n",
        "          break\n",
        "    if not f:\n",
        "      l.append(i)\n",
        "  return l\n",
        "n=int(input())\n",
        "print(prime(n))"
      ],
      "execution_count": null,
      "outputs": [
        {
          "output_type": "stream",
          "name": "stdout",
          "text": [
            "30\n",
            "[1, 2, 3, 5, 7, 11, 13, 17, 19, 23, 29]\n"
          ]
        }
      ]
    },
    {
      "cell_type": "code",
      "metadata": {
        "colab": {
          "base_uri": "https://localhost:8080/"
        },
        "id": "SbWJH_Y2dRBN",
        "outputId": "824c6f75-94bf-417b-eae8-a5090ea587b7"
      },
      "source": [
        "# 30\n",
        "def armstrong(n):\n",
        "  l1=[]\n",
        "  for i in range(1,n+1):\n",
        "    l=[]\n",
        "    s=str(i)\n",
        "    for j in range(len(s)):\n",
        "      x=int(s[j])**len(s)\n",
        "      l.append(x)\n",
        "    s1=sum(l)\n",
        "    if s1==i:\n",
        "      l1.append(s1)\n",
        "  return l1\n",
        "n=int(input())\n",
        "print(armstrong(n))"
      ],
      "execution_count": 36,
      "outputs": [
        {
          "output_type": "stream",
          "name": "stdout",
          "text": [
            "4000\n",
            "[1, 2, 3, 4, 5, 6, 7, 8, 9, 153, 370, 371, 407, 1634]\n"
          ]
        }
      ]
    },
    {
      "cell_type": "code",
      "metadata": {
        "colab": {
          "base_uri": "https://localhost:8080/"
        },
        "id": "WSbpZ_1VSyTx",
        "outputId": "1067b40c-57f6-47ba-d2a7-0ace394db89b"
      },
      "source": [
        "# 31\n",
        "def pal(n):\n",
        "  l=[]\n",
        "  for i in range(1,n+1):\n",
        "    si=str(i)\n",
        "    if si==si[::-1]:\n",
        "      l.append(int(si))\n",
        "  return l\n",
        "n=int(input())\n",
        "print(pal(n))"
      ],
      "execution_count": null,
      "outputs": [
        {
          "output_type": "stream",
          "name": "stdout",
          "text": [
            "350\n",
            "[1, 2, 3, 4, 5, 6, 7, 8, 9, 11, 22, 33, 44, 55, 66, 77, 88, 99, 101, 111, 121, 131, 141, 151, 161, 171, 181, 191, 202, 212, 222, 232, 242, 252, 262, 272, 282, 292, 303, 313, 323, 333, 343]\n"
          ]
        }
      ]
    },
    {
      "cell_type": "code",
      "metadata": {
        "colab": {
          "base_uri": "https://localhost:8080/"
        },
        "id": "C4wcQoCnUHUM",
        "outputId": "d1337dc2-61a7-4221-d1e9-679d39fe77e2"
      },
      "source": [
        "# 32\n",
        "def disarium(n):\n",
        "  l1=[]\n",
        "  for i in range(1,n+1):\n",
        "    l=[]\n",
        "    s=str(i)\n",
        "    for j in range(len(s)):\n",
        "      x=int(s[j])**(j+1)\n",
        "      l.append(x)\n",
        "    s1=sum(l)\n",
        "    if s1==i:\n",
        "      l1.append(s1)\n",
        "  return l1\n",
        "n=int(input())\n",
        "print(disarium(n))"
      ],
      "execution_count": null,
      "outputs": [
        {
          "output_type": "stream",
          "name": "stdout",
          "text": [
            "200\n",
            "[1, 2, 3, 4, 5, 6, 7, 8, 9, 89, 135, 175]\n"
          ]
        }
      ]
    },
    {
      "cell_type": "code",
      "metadata": {
        "colab": {
          "base_uri": "https://localhost:8080/"
        },
        "id": "1_xQ8GJKfLCO",
        "outputId": "81d90c8e-d0c6-475d-f5ec-079d888f20eb"
      },
      "source": [
        "# 33\n",
        "n=int(input())\n",
        "num=1\n",
        "for i in range(n):\n",
        "  for j in range(i+1):\n",
        "    print(num,end=\" \")\n",
        "    num+=1\n",
        "  print()\n"
      ],
      "execution_count": 41,
      "outputs": [
        {
          "output_type": "stream",
          "name": "stdout",
          "text": [
            "5\n",
            "1 \n",
            "2 3 \n",
            "4 5 6 \n",
            "7 8 9 10 \n",
            "11 12 13 14 15 \n"
          ]
        }
      ]
    },
    {
      "cell_type": "code",
      "metadata": {
        "colab": {
          "base_uri": "https://localhost:8080/"
        },
        "id": "jYFX7vsjg0fv",
        "outputId": "4ac585c5-48e2-4159-9863-0288127a6785"
      },
      "source": [
        "# (or) 33 \n",
        "n=int(input())\n",
        "num=1\n",
        "k=n-1\n",
        "for i in range(n):\n",
        "  for j in range(k):\n",
        "    print(end=\" \")\n",
        "  k=k-1\n",
        "  for j in range(i+1):\n",
        "    print(num,end=\" \")\n",
        "    num+=1\n",
        "  print()"
      ],
      "execution_count": 44,
      "outputs": [
        {
          "output_type": "stream",
          "name": "stdout",
          "text": [
            "4\n",
            "   1 \n",
            "  2 3 \n",
            " 4 5 6 \n",
            "7 8 9 10 \n"
          ]
        }
      ]
    },
    {
      "cell_type": "code",
      "metadata": {
        "colab": {
          "base_uri": "https://localhost:8080/"
        },
        "id": "oyk-6kTwgHk6",
        "outputId": "01e7a763-7ce5-492c-e6f8-aba7954f8212"
      },
      "source": [
        "# 34\n",
        "n=int(input())\n",
        "for i in range(n+1):\n",
        "  c=(i*i*i)+1\n",
        "  print(c,end=\" \")"
      ],
      "execution_count": null,
      "outputs": [
        {
          "output_type": "stream",
          "name": "stdout",
          "text": [
            "5\n",
            "1 2 9 28 65 126 "
          ]
        }
      ]
    },
    {
      "cell_type": "code",
      "metadata": {
        "colab": {
          "base_uri": "https://localhost:8080/"
        },
        "id": "dx2GVKlGhgNE",
        "outputId": "1d36cbe3-e9d3-4244-c465-ddf8cae92f19"
      },
      "source": [
        "# 35\n",
        "n=11\n",
        "num=int(input())\n",
        "for i in range(n,num+1):\n",
        "  m=i*(i+1)\n",
        "  print(m,end=\" \")"
      ],
      "execution_count": null,
      "outputs": [
        {
          "output_type": "stream",
          "name": "stdout",
          "text": [
            "15\n",
            "132 156 182 210 240 "
          ]
        }
      ]
    },
    {
      "cell_type": "code",
      "metadata": {
        "colab": {
          "base_uri": "https://localhost:8080/"
        },
        "id": "385RyE7FiOFs",
        "outputId": "85c2ee98-de01-4256-fc85-a723e8c4dbc9"
      },
      "source": [
        "# 36\n",
        "n=int(input())\n",
        "\n",
        "l=[]\n",
        "i=1\n",
        "while(i<n):\n",
        "  if i%2==0:\n",
        "    s=(i**2)-1\n",
        "  else:\n",
        "    s=(i**2)+1\n",
        "    \n",
        "  i=s\n",
        "  l.append(s)\n",
        "print(l)"
      ],
      "execution_count": null,
      "outputs": [
        {
          "output_type": "stream",
          "name": "stdout",
          "text": [
            "99\n",
            "[2, 3, 10, 99]\n"
          ]
        }
      ]
    }
  ]
}