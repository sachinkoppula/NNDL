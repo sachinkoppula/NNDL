{
 "cells": [
  {
   "cell_type": "markdown",
   "metadata": {},
   "source": [
    "# mini batch gradient descent algorithm"
   ]
  },
  {
   "cell_type": "code",
   "execution_count": 1,
   "metadata": {},
   "outputs": [
    {
     "name": "stdout",
     "output_type": "stream",
     "text": [
      "first order derivatives of given function are de/dm = -1.0*x*(-c - m*x + y) ,de/dc = 1.0*c + 1.0*m*x - 1.0*y\n",
      "2.72 2.33\n",
      "minimum value obtained at m = 2.72 ,c =2.33 for given function\n"
     ]
    }
   ],
   "source": [
    "from sympy import Symbol, Derivative, symbols\n",
    "m= Symbol('m')\n",
    "c= Symbol('c')\n",
    "function = '0.5*(y-m*x-c)**2'\n",
    "partialderiv= Derivative(function, m)\n",
    "dfm = partialderiv.doit()\n",
    "partialderiv= Derivative(function, c)\n",
    "dfc = partialderiv.doit()\n",
    "xa = [0.2,0.4,0.6,0.8,1.0,1.2]\n",
    "ya = [2.4,3.8,4.2,4.6,5.0,5.4]\n",
    "\n",
    "print(f'first order derivatives of given function are de/dm = {dfm} ,de/dc = {dfc}')\n",
    "\n",
    "#step 1 initialise values\n",
    "bs = 2\n",
    "m1 = 1.0 \n",
    "c1 = -1.0  #variable x, y\n",
    "itr = 1000  #epoches\n",
    "learning_rate = 0.1  #learning rate\n",
    "\n",
    "ns = len(xa)\n",
    "nb = ns//bs\n",
    "ms = ns%bs\n",
    "\n",
    "\n",
    "for i in range(0,itr):\n",
    "    for k in range(0,nb):\n",
    "        dfmv1 = 0\n",
    "        dfcv1 = 0\n",
    "        for j in range(0,bs):\n",
    "            index = k*bs + j\n",
    "            #step 2 substitute x ,y in first order derivatives df/dx, df/dy\n",
    "            m = symbols('m')\n",
    "            c = symbols('c')\n",
    "            x = symbols('x')\n",
    "            y = symbols('y')\n",
    "            dfmv = dfm.subs(m, m1) \n",
    "            dfmv = dfmv.subs(c, c1) \n",
    "            dfmv = dfmv.subs(x, xa[index]) \n",
    "            dfmv = dfmv.subs(y, ya[index]) \n",
    "            dfmv = round(dfmv,2)\n",
    "            dfcv = dfc.subs(c, c1) \n",
    "            dfcv = dfcv.subs(m, m1) \n",
    "            dfcv = dfcv.subs(x, xa[index]) \n",
    "            dfcv = dfcv.subs(y, ya[index]) \n",
    "            dfcv = round(dfcv,2)\n",
    "            dfmv1 += dfmv\n",
    "            dfcv1 += dfcv\n",
    "            \n",
    "        dfmv1 = dfmv1/bs\n",
    "        dfcv1 = dfcv1/bs\n",
    "\n",
    "        dfmv1 = round(dfmv1,2)\n",
    "        dfcv1 = round(dfcv1,2)\n",
    "        #step3 find change in x , y\n",
    "        dm = (-1.0)*learning_rate*dfmv1\n",
    "        dc = (-1.0)*learning_rate*dfcv1\n",
    "        #step4 update variable \n",
    "        m1 = m1 + dm \n",
    "        c1 = c1 + dc\n",
    "        #step5 increment iterations \n",
    "        #step6 break loop if iterations exceed no of epoches\n",
    "k = nb\n",
    "if(ms>0):\n",
    "    dfmv1 = 0\n",
    "    dfcv1 = 0\n",
    "    for j in range(0,ms):\n",
    "        index = k*bs + j\n",
    "        #step 2 substitute x ,y in first order derivatives df/dx, df/dy\n",
    "        m = symbols('m')\n",
    "        c = symbols('c')\n",
    "        x = symbols('x')\n",
    "        y = symbols('y')\n",
    "        dfmv = dfm.subs(m, m1) \n",
    "        dfmv = dfmv.subs(c, c1) \n",
    "        dfmv = dfmv.subs(x, xa[index]) \n",
    "        dfmv = dfmv.subs(y, ya[index]) \n",
    "        dfcv = dfc.subs(c, c1) \n",
    "        dfcv = dfcv.subs(m, m1) \n",
    "        dfcv = dfcv.subs(x, xa[index]) \n",
    "        dfcv = dfcv.subs(y, ya[index]) \n",
    "        dfmv1 += dfmv\n",
    "        dfcv1 += dfcv\n",
    "\n",
    "    dfmv1 = dfmv1/ms\n",
    "    dfcv1 = dfcv1/ms\n",
    "\n",
    "    #step3 find change in x , y\n",
    "    dm = (-1.0)*learning_rate*dfmv1\n",
    "    dc = (-1.0)*learning_rate*dfcv1\n",
    "    #step4 update variable \n",
    "    m1 = m1 + dm \n",
    "    c1 = c1 + dc\n",
    "#step7 print variable x1, y1\n",
    "m1= round(m1,2)\n",
    "c1= round(c1,2)\n",
    "print(m1, c1)\n",
    "print(f'minimum value obtained at m = {m1} ,c ={c1} for given function')"
   ]
  },
  {
   "cell_type": "code",
   "execution_count": 3,
   "metadata": {},
   "outputs": [
    {
     "data": {
      "image/png": "[encoded data removed]",
      "text/plain": [
       "<Figure size 432x288 with 1 Axes>"
      ]
     },
     "metadata": {
      "needs_background": "light"
     },
     "output_type": "display_data"
    }
   ],
   "source": [
    "import matplotlib.pyplot as plt\n",
    "import numpy as np\n",
    "x = np.linspace(-5,5,100)\n",
    "y = m1*x+c1\n",
    "plt.plot(x, y, '-r', label='y='+str(m1)+'x+'+str(c1))\n",
    "plt.title('Graph of '+'y='+str(m1)+'x+'+str(c1))\n",
    "plt.xlabel('x', color='#1C2833')\n",
    "plt.ylabel('y', color='#1C2833')\n",
    "plt.legend(loc='upper left')\n",
    "plt.grid()\n",
    "plt.show()"
   ]
  },
  {
   "cell_type": "code",
   "execution_count": 4,
   "metadata": {},
   "outputs": [
    {
     "name": "stdout",
     "output_type": "stream",
     "text": [
      "mean square error : 0.0793699820836385\n"
     ]
    }
   ],
   "source": [
    "data_pred = []\n",
    "for i in xa:\n",
    "    data_pred.append(m1*i+c1)\n",
    "\n",
    "from sklearn.metrics import mean_squared_error\n",
    "mse = mean_squared_error(ya,data_pred)\n",
    "print(f\"mean square error : {mse}\")"
   ]
  }
 ],
 "metadata": {
  "kernelspec": {
   "display_name": "Python 3",
   "language": "python",
   "name": "python3"
  },
  "language_info": {
   "codemirror_mode": {
    "name": "ipython",
    "version": 3
   },
   "file_extension": ".py",
   "mimetype": "text/x-python",
   "name": "python",
   "nbconvert_exporter": "python",
   "pygments_lexer": "ipython3",
   "version": "3.7.6"
  }
 },
 "nbformat": 4,
 "nbformat_minor": 4
}
