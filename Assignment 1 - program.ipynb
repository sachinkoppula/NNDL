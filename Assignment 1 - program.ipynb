{
 "cells": [
  {
   "cell_type": "code",
   "execution_count": 7,
   "metadata": {},
   "outputs": [
    {
     "name": "stdout",
     "output_type": "stream",
     "text": [
      "first order derivative of given function is 4*x**3 + 6*x\n",
      "0\n",
      "minimum value obtained at x = 0 for given function\n",
      "value for given function(f(x)) at minimum value x = 0 is 10\n"
     ]
    }
   ],
   "source": [
    "#for differentiation we import sympy\n"
    "from sympy import *\n",
    "#calculating first order derivative\n",
    "fn = x**4+3*x**2+10\n",
    "x = Symbol('x')\n",
    "y = diff(fn,x)\n",
    "print(f'first order derivative of given function is {y}')\n",
    "\n",
    "#step 1 initialise values \n",
    "x1 = 1.0  #variable x\n",
    "itr = 20  #epoches\n",
    "learning_rate = 0.1  #learning rate\n",
    "for i in range(0,itr):\n",
    "    #step 2 substitute x in first order derivative\n",
    "    x = symbols('x')\n",
    "    df = y.subs(x, x1) \n",
    "    df = round(df,2)\n",
    "    #step3 find change in x \n",
    "    dx = (-1.0)*learning_rate*df\n",
    "    #step4 update variable \n",
    "    x1 = x1 + dx\n",
    "    x1 = round(x1, 2)\n",
    "    #step5 increment iterations \n",
    "    #step6 break loop if iterations exceed no of epoches\n",
    "#step7 print variable x1\n",
    "print(x1)\n",
    "print(f'minimum value obtained at x = {x1} for given function')\n",
    "print(f'value for given function(f(x)) at minimum value x = {x1} is {fn.subs(x,x1)}')"
   ]
  },
  {
   "cell_type": "code",
   "execution_count": null,
   "metadata": {},
   "outputs": [],
   "source": []
  }
 ],
 "metadata": {
  "kernelspec": {
   "display_name": "Python 3",
   "language": "python",
   "name": "python3"
  },
  "language_info": {
   "codemirror_mode": {
    "name": "ipython",
    "version": 3
   },
   "file_extension": ".py",
   "mimetype": "text/x-python",
   "name": "python",
   "nbconvert_exporter": "python",
   "pygments_lexer": "ipython3",
   "version": "3.7.6"
  }
 },
 "nbformat": 4,
 "nbformat_minor": 4
}
