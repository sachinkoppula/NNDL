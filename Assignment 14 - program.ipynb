{
 "cells": [
  {
   "cell_type": "code",
   "execution_count": 1,
   "metadata": {},
   "outputs": [],
   "source": [
    "import numpy as np\n",
    "import matplotlib.pyplot as plt\n",
    "import pandas as pd\n",
    "from sklearn.preprocessing import minmax_scale\n",
    "from sklearn.model_selection import train_test_split\n",
    "import seaborn as sns\n",
    "from scipy import stats\n"
   ]
  },
  {
   "cell_type": "markdown",
   "metadata": {},
   "source": [
    "Read Data"
   ]
  },
  {
   "cell_type": "code",
   "execution_count": 2,
   "metadata": {},
   "outputs": [
    {
     "data": {
      "text/html": [
       "<div>\n",
       "<style scoped>\n",
       "    .dataframe tbody tr th:only-of-type {\n",
       "        vertical-align: middle;\n",
       "    }\n",
       "\n",
       "    .dataframe tbody tr th {\n",
       "        vertical-align: top;\n",
       "    }\n",
       "\n",
       "    .dataframe thead th {\n",
       "        text-align: right;\n",
       "    }\n",
       "</style>\n",
       "<table border=\"1\" class=\"dataframe\">\n",
       "  <thead>\n",
       "    <tr style=\"text-align: right;\">\n",
       "      <th></th>\n",
       "      <th>0</th>\n",
       "    </tr>\n",
       "  </thead>\n",
       "  <tbody>\n",
       "    <tr>\n",
       "      <th>0</th>\n",
       "      <td>5551.82208</td>\n",
       "    </tr>\n",
       "    <tr>\n",
       "      <th>1</th>\n",
       "      <td>4983.17184</td>\n",
       "    </tr>\n",
       "    <tr>\n",
       "      <th>2</th>\n",
       "      <td>4888.39680</td>\n",
       "    </tr>\n",
       "    <tr>\n",
       "      <th>3</th>\n",
       "      <td>5072.95872</td>\n",
       "    </tr>\n",
       "    <tr>\n",
       "      <th>4</th>\n",
       "      <td>5196.25980</td>\n",
       "    </tr>\n",
       "  </tbody>\n",
       "</table>\n",
       "</div>"
      ],
      "text/plain": [
       "            0\n",
       "0  5551.82208\n",
       "1  4983.17184\n",
       "2  4888.39680\n",
       "3  5072.95872\n",
       "4  5196.25980"
      ]
     },
     "execution_count": 2,
     "metadata": {},
     "output_type": "execute_result"
    }
   ],
   "source": [
    "data = pd.read_excel(\"Load_Data_in_kW.xlsx\",header=None)\n",
    "data.head()"
   ]
  },
  {
   "cell_type": "code",
   "execution_count": 3,
   "metadata": {},
   "outputs": [
    {
     "name": "stdout",
     "output_type": "stream",
     "text": [
      "<class 'pandas.core.frame.DataFrame'>\n",
      "RangeIndex: 2184 entries, 0 to 2183\n",
      "Data columns (total 1 columns):\n",
      " #   Column  Non-Null Count  Dtype  \n",
      "---  ------  --------------  -----  \n",
      " 0   0       2184 non-null   float64\n",
      "dtypes: float64(1)\n",
      "memory usage: 17.2 KB\n"
     ]
    }
   ],
   "source": [
    "data.info()"
   ]
  },
  {
   "cell_type": "markdown",
   "metadata": {},
   "source": [
    "Outliers"
   ]
  },
  {
   "cell_type": "code",
   "execution_count": 4,
   "metadata": {},
   "outputs": [
    {
     "name": "stdout",
     "output_type": "stream",
     "text": [
      "[[0.04910416]\n",
      " [0.08229029]\n",
      " [0.08782131]\n",
      " ...\n",
      " [0.09743692]\n",
      " [0.07253822]\n",
      " [0.03181432]]\n"
     ]
    }
   ],
   "source": [
    "z = np.abs(stats.zscore(data))\n",
    "print(z)"
   ]
  },
  {
   "cell_type": "code",
   "execution_count": 5,
   "metadata": {},
   "outputs": [
    {
     "data": {
      "text/plain": [
       "<matplotlib.axes._subplots.AxesSubplot at 0x2367657a308>"
      ]
     },
     "execution_count": 5,
     "metadata": {},
     "output_type": "execute_result"
    },
    {
     "data": {
      "image/png": "[encoded data removed]",
      "text/plain": [
       "<Figure size 432x288 with 1 Axes>"
      ]
     },
     "metadata": {
      "needs_background": "light"
     },
     "output_type": "display_data"
    }
   ],
   "source": [
    "sns.boxplot(x=data[0])"
   ]
  },
  {
   "cell_type": "code",
   "execution_count": 6,
   "metadata": {},
   "outputs": [
    {
     "data": {
      "text/html": [
       "<div>\n",
       "<style scoped>\n",
       "    .dataframe tbody tr th:only-of-type {\n",
       "        vertical-align: middle;\n",
       "    }\n",
       "\n",
       "    .dataframe tbody tr th {\n",
       "        vertical-align: top;\n",
       "    }\n",
       "\n",
       "    .dataframe thead th {\n",
       "        text-align: right;\n",
       "    }\n",
       "</style>\n",
       "<table border=\"1\" class=\"dataframe\">\n",
       "  <thead>\n",
       "    <tr style=\"text-align: right;\">\n",
       "      <th></th>\n",
       "      <th>0</th>\n",
       "    </tr>\n",
       "  </thead>\n",
       "  <tbody>\n",
       "    <tr>\n",
       "      <th>0</th>\n",
       "      <td>5551.82208</td>\n",
       "    </tr>\n",
       "    <tr>\n",
       "      <th>1</th>\n",
       "      <td>4983.17184</td>\n",
       "    </tr>\n",
       "    <tr>\n",
       "      <th>2</th>\n",
       "      <td>4888.39680</td>\n",
       "    </tr>\n",
       "    <tr>\n",
       "      <th>3</th>\n",
       "      <td>5072.95872</td>\n",
       "    </tr>\n",
       "    <tr>\n",
       "      <th>4</th>\n",
       "      <td>5196.25980</td>\n",
       "    </tr>\n",
       "  </tbody>\n",
       "</table>\n",
       "</div>"
      ],
      "text/plain": [
       "            0\n",
       "0  5551.82208\n",
       "1  4983.17184\n",
       "2  4888.39680\n",
       "3  5072.95872\n",
       "4  5196.25980"
      ]
     },
     "execution_count": 6,
     "metadata": {},
     "output_type": "execute_result"
    }
   ],
   "source": [
    "df = data\n",
    "q = df[0].quantile(0.99)\n",
    "df[df[0] < q]\n",
    "q_low = df[0].quantile(0.01)\n",
    "q_hi  = df[0].quantile(0.99)\n",
    "\n",
    "df_filtered = df[(df[0] < q_hi) & (df[0] > q_low)]\n",
    "df_filtered.head()"
   ]
  },
  {
   "cell_type": "code",
   "execution_count": 7,
   "metadata": {},
   "outputs": [
    {
     "name": "stdout",
     "output_type": "stream",
     "text": [
      "2184\n",
      "2140\n"
     ]
    }
   ],
   "source": [
    "print(len(data))\n",
    "print(len(df_filtered))\n",
    "if(len(data) == len(df_filtered)):\n",
    "    print('No outliners')\n"
   ]
  },
  {
   "cell_type": "markdown",
   "metadata": {},
   "source": [
    " Normalisation"
   ]
  },
  {
   "cell_type": "code",
   "execution_count": 8,
   "metadata": {},
   "outputs": [
    {
     "data": {
      "text/html": [
       "<div>\n",
       "<style scoped>\n",
       "    .dataframe tbody tr th:only-of-type {\n",
       "        vertical-align: middle;\n",
       "    }\n",
       "\n",
       "    .dataframe tbody tr th {\n",
       "        vertical-align: top;\n",
       "    }\n",
       "\n",
       "    .dataframe thead th {\n",
       "        text-align: right;\n",
       "    }\n",
       "</style>\n",
       "<table border=\"1\" class=\"dataframe\">\n",
       "  <thead>\n",
       "    <tr style=\"text-align: right;\">\n",
       "      <th></th>\n",
       "      <th>0</th>\n",
       "    </tr>\n",
       "  </thead>\n",
       "  <tbody>\n",
       "    <tr>\n",
       "      <th>0</th>\n",
       "      <td>0.372950</td>\n",
       "    </tr>\n",
       "    <tr>\n",
       "      <th>1</th>\n",
       "      <td>0.254941</td>\n",
       "    </tr>\n",
       "    <tr>\n",
       "      <th>2</th>\n",
       "      <td>0.235273</td>\n",
       "    </tr>\n",
       "    <tr>\n",
       "      <th>3</th>\n",
       "      <td>0.273574</td>\n",
       "    </tr>\n",
       "    <tr>\n",
       "      <th>4</th>\n",
       "      <td>0.299162</td>\n",
       "    </tr>\n",
       "  </tbody>\n",
       "</table>\n",
       "</div>"
      ],
      "text/plain": [
       "          0\n",
       "0  0.372950\n",
       "1  0.254941\n",
       "2  0.235273\n",
       "3  0.273574\n",
       "4  0.299162"
      ]
     },
     "execution_count": 8,
     "metadata": {},
     "output_type": "execute_result"
    }
   ],
   "source": [
    "data = df_filtered\n",
    "data_n = data.copy()\n",
    "data_n = (data_n - data_n.min())/(data_n.max() - data_n.min())\n",
    "data_n.head()"
   ]
  },
  {
   "cell_type": "markdown",
   "metadata": {},
   "source": [
    "Split Data"
   ]
  },
  {
   "cell_type": "code",
   "execution_count": 9,
   "metadata": {},
   "outputs": [],
   "source": [
    "train_data,test_data = train_test_split(data_n,test_size=0.1)"
   ]
  },
  {
   "cell_type": "code",
   "execution_count": 10,
   "metadata": {},
   "outputs": [
    {
     "name": "stdout",
     "output_type": "stream",
     "text": [
      "1926\n"
     ]
    },
    {
     "data": {
      "text/html": [
       "<div>\n",
       "<style scoped>\n",
       "    .dataframe tbody tr th:only-of-type {\n",
       "        vertical-align: middle;\n",
       "    }\n",
       "\n",
       "    .dataframe tbody tr th {\n",
       "        vertical-align: top;\n",
       "    }\n",
       "\n",
       "    .dataframe thead th {\n",
       "        text-align: right;\n",
       "    }\n",
       "</style>\n",
       "<table border=\"1\" class=\"dataframe\">\n",
       "  <thead>\n",
       "    <tr style=\"text-align: right;\">\n",
       "      <th></th>\n",
       "      <th>0</th>\n",
       "    </tr>\n",
       "  </thead>\n",
       "  <tbody>\n",
       "    <tr>\n",
       "      <th>426</th>\n",
       "      <td>0.750914</td>\n",
       "    </tr>\n",
       "    <tr>\n",
       "      <th>2036</th>\n",
       "      <td>0.351891</td>\n",
       "    </tr>\n",
       "    <tr>\n",
       "      <th>1268</th>\n",
       "      <td>0.401514</td>\n",
       "    </tr>\n",
       "    <tr>\n",
       "      <th>1118</th>\n",
       "      <td>0.469802</td>\n",
       "    </tr>\n",
       "    <tr>\n",
       "      <th>1468</th>\n",
       "      <td>0.409084</td>\n",
       "    </tr>\n",
       "  </tbody>\n",
       "</table>\n",
       "</div>"
      ],
      "text/plain": [
       "             0\n",
       "426   0.750914\n",
       "2036  0.351891\n",
       "1268  0.401514\n",
       "1118  0.469802\n",
       "1468  0.409084"
      ]
     },
     "execution_count": 10,
     "metadata": {},
     "output_type": "execute_result"
    }
   ],
   "source": [
    "print(len(train_data))\n",
    "train_data.head()"
   ]
  },
  {
   "cell_type": "code",
   "execution_count": 11,
   "metadata": {},
   "outputs": [],
   "source": [
    "xa = []\n",
    "ya = []\n",
    "for i in range(len(train_data.iloc[:,0])-(7*24)):\n",
    "    xa.append(train_data.iloc[i,0])\n",
    "    ya.append(train_data.iloc[i+(7*24),0])"
   ]
  },
  {
   "cell_type": "markdown",
   "metadata": {},
   "source": [
    "Train Data"
   ]
  },
  {
   "cell_type": "code",
   "execution_count": 12,
   "metadata": {},
   "outputs": [
    {
     "name": "stdout",
     "output_type": "stream",
     "text": [
      "first order derivatives of given function are de/dm = -1.0*x*(-c - m*x + y) ,de/dc = 1.0*c + 1.0*m*x - 1.0*y\n",
      "0.28 0.29\n",
      "minimum value obtained at m = 0.28 ,c =0.29 for given function\n"
     ]
    }
   ],
   "source": [
    "from sympy import Symbol, Derivative, symbols\n",
    "m= Symbol('m')\n",
    "c= Symbol('c')\n",
    "function = '0.5*(y-m*x-c)**2'\n",
    "partialderiv= Derivative(function, m)\n",
    "dfm = partialderiv.doit()\n",
    "partialderiv= Derivative(function, c)\n",
    "dfc = partialderiv.doit()\n",
    "err = []\n",
    "print(f'first order derivatives of given function are de/dm = {dfm} ,de/dc = {dfc}')\n",
    "\n",
    "#step 1 initialise values \n",
    "m1 = 1.0 \n",
    "c1 = -1.0  #variable x, y\n",
    "itr = 20  #epoches\n",
    "GM = 0\n",
    "GC = 0\n",
    "ep = 10**(-8)\n",
    "learning_rate = 0.1  #learning rate\n",
    "for i in range(0,itr):\n",
    "    er = 0\n",
    "    for j in range(0,len(xa)):\n",
    "        er +=  ((ya[j] - (m1 * xa[j]) - c1))**2\n",
    "        #step 2 substitute x ,y in first order derivatives df/dx, df/dy\n",
    "        m = symbols('m')\n",
    "        c = symbols('c')\n",
    "        x = symbols('x')\n",
    "        y = symbols('y')\n",
    "        dfmv = dfm.subs(m, m1) \n",
    "        dfmv = dfmv.subs(c, c1) \n",
    "        dfmv = dfmv.subs(x, xa[j]) \n",
    "        dfmv = dfmv.subs(y, ya[j]) \n",
    "        dfmv = round(dfmv,2)\n",
    "        dfcv = dfc.subs(c, c1) \n",
    "        dfcv = dfcv.subs(m, m1) \n",
    "        dfcv = dfcv.subs(x, xa[j]) \n",
    "        dfcv = dfcv.subs(y, ya[j]) \n",
    "        dfcv = round(dfcv,2)\n",
    "        GM = GM + (dfmv**2)\n",
    "        GC = GC + (dfcv**2)\n",
    "        #step3 find change in x , y\n",
    "        dm = (-1.0)*(learning_rate/(GM+ep)**(0.5))*dfmv\n",
    "        dc = (-1.0)*(learning_rate/(GC+ep)**(0.5))*dfcv\n",
    "        #step4 update variable \n",
    "        m1 = m1 + dm\n",
    "        m1 = round(m1, 2) \n",
    "        c1 = c1 + dc\n",
    "        c1 = round(c1, 2)\n",
    "        \n",
    "        er = (1/(2*len(xa)))*(er)\n",
    "        err.append(er)\n",
    "    #step5 increment iterations \n",
    "    #step6 break loop if iterations exceed no of epoches\n",
    "#step7 print variable x1, y1\n",
    "print(m1, c1)\n",
    "print(f'minimum value obtained at m = {m1} ,c ={c1} for given function')"
   ]
  },
  {
   "cell_type": "markdown",
   "metadata": {},
   "source": [
    "RMSE for Training data"
   ]
  },
  {
   "cell_type": "code",
   "execution_count": 13,
   "metadata": {},
   "outputs": [
    {
     "data": {
      "text/plain": [
       "0.05004093764404063"
      ]
     },
     "execution_count": 13,
     "metadata": {},
     "output_type": "execute_result"
    }
   ],
   "source": [
    "\n",
    "train_data_pred = [i for i in xa]\n",
    "for k in range(len(xa)):\n",
    "    train_data_pred[k]=(m1*xa[k] + c1)\n",
    "from sklearn.metrics import mean_squared_error\n",
    "mse = mean_squared_error(ya,train_data_pred)\n",
    "mse\n"
   ]
  },
  {
   "cell_type": "code",
   "execution_count": 14,
   "metadata": {},
   "outputs": [
    {
     "data": {
      "text/plain": [
       "Text(0.5, 1.0, 'predicted data vs actual data')"
      ]
     },
     "execution_count": 14,
     "metadata": {},
     "output_type": "execute_result"
    },
    {
     "data": {
      "image/png": "[encoded data removed]",
      "text/plain": [
       "<Figure size 432x288 with 1 Axes>"
      ]
     },
     "metadata": {
      "needs_background": "light"
     },
     "output_type": "display_data"
    }
   ],
   "source": [
    "plt.plot(np.array(xa),np.array(train_data_pred),'green')\n",
    "plt.scatter(np.array(xa),np.array(ya),color='red')\n",
    "plt.title('predicted data vs actual data')"
   ]
  },
  {
   "cell_type": "code",
   "execution_count": 15,
   "metadata": {},
   "outputs": [
    {
     "data": {
      "image/png": "[encoded data removed]",
      "text/plain": [
       "<Figure size 432x288 with 1 Axes>"
      ]
     },
     "metadata": {
      "needs_background": "light"
     },
     "output_type": "display_data"
    }
   ],
   "source": [
    "iters = np.arange(itr*len(xa))\n",
    "plt.plot(iters,err,'green')\n",
    "plt.title(\"Error graph for training data\")\n",
    "plt.xlabel(\"iteration count\")\n",
    "plt.ylabel(\"error\")\n",
    "plt.grid()"
   ]
  },
  {
   "cell_type": "markdown",
   "metadata": {},
   "source": [
    "Test Data"
   ]
  },
  {
   "cell_type": "code",
   "execution_count": 16,
   "metadata": {},
   "outputs": [
    {
     "data": {
      "text/plain": [
       "0.04727187994487068"
      ]
     },
     "execution_count": 16,
     "metadata": {},
     "output_type": "execute_result"
    }
   ],
   "source": [
    "xa = []\n",
    "ya = []\n",
    "for i in range(len(test_data.iloc[:,0])-24):\n",
    "    xa.append(test_data.iloc[i,0])\n",
    "    ya.append(test_data.iloc[i+24,0])\n",
    "test_data_pred = [i for i in xa]\n",
    "for k in range(len(xa)):\n",
    "    test_data_pred[k]=(m1*xa[k] + c1)\n",
    "from sklearn.metrics import mean_squared_error\n",
    "mse = mean_squared_error(ya,test_data_pred)\n",
    "mse"
   ]
  },
  {
   "cell_type": "code",
   "execution_count": 17,
   "metadata": {},
   "outputs": [
    {
     "data": {
      "image/png": "[encoded data removed]",
      "text/plain": [
       "<Figure size 432x288 with 1 Axes>"
      ]
     },
     "metadata": {
      "needs_background": "light"
     },
     "output_type": "display_data"
    }
   ],
   "source": [
    "plt.scatter(xa,ya,color='red')\n",
    "plt.plot(xa,test_data_pred,'green')\n",
    "plt.grid()"
   ]
  },
  {
   "cell_type": "markdown",
   "metadata": {},
   "source": [
    "Predict Output"
   ]
  },
  {
   "cell_type": "code",
   "execution_count": 18,
   "metadata": {},
   "outputs": [
    {
     "name": "stdout",
     "output_type": "stream",
     "text": [
      "enter load of previous hour :5073\n",
      "load at hour based on its previous hour is : 5436.87882750000\n"
     ]
    }
   ],
   "source": [
    "x_max = y_max= 8841.669480\n",
    "x_min = y_min = 3377.919600\n",
    "x =x1 = float(input(\"enter load of previous hour :\"))\n",
    "x = (x - x_min)/(x_max - x_min)\n",
    "y = m1*x + c1\n",
    "y = y*(y_max - y_min) + y_min\n",
    "print(f\"load at hour based on its previous hour is : {y}\")"
   ]
  },
  {
   "cell_type": "code",
   "execution_count": null,
   "metadata": {},
   "outputs": [],
   "source": []
  },
  {
   "cell_type": "code",
   "execution_count": null,
   "metadata": {},
   "outputs": [],
   "source": []
  }
 ],
 "metadata": {
  "kernelspec": {
   "display_name": "Python 3",
   "language": "python",
   "name": "python3"
  },
  "language_info": {
   "codemirror_mode": {
    "name": "ipython",
    "version": 3
   },
   "file_extension": ".py",
   "mimetype": "text/x-python",
   "name": "python",
   "nbconvert_exporter": "python",
   "pygments_lexer": "ipython3",
   "version": "3.7.6"
  }
 },
 "nbformat": 4,
 "nbformat_minor": 4
}
