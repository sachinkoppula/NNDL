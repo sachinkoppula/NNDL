{
 "cells": [
  {
   "cell_type": "markdown",
   "metadata": {},
   "source": [
    "# Gradient descent optimisation algorithm for multivariable expression"
   ]
  },
  {
   "cell_type": "code",
   "execution_count": 13,
   "metadata": {},
   "outputs": [
    {
     "name": "stdout",
     "output_type": "stream",
     "text": [
      "first order derivatives of given function are df/dx = 2*x ,df/dy = 2*y\n",
      "-0.02 0.02\n",
      "minimum value obtained at x = -0.02 ,y =0.02 for given function\n"
     ]
    }
   ],
   "source": [
    "from sympy import Symbol, Derivative, symbols\n",
    "x= Symbol('x')\n",
    "y= Symbol('y')\n",
    "function = x**2 + y**2 + 10\n",
    "partialderiv= Derivative(function, y)\n",
    "dfy = partialderiv.doit()\n",
    "partialderiv= Derivative(function, x)\n",
    "dfx = partialderiv.doit()\n",
    "\n",
    "print(f'first order derivatives of given function are df/dx = {dfx} ,df/dy = {dfy}')\n",
    "\n",
    "#step 1 initialise values \n",
    "x1 = -1.0 \n",
    "y1 = 2.0  #variable x, y\n",
    "itr = 100  #epoches\n",
    "learning_rate = 0.1  #learning rate\n",
    "for i in range(0,itr):\n",
    "    #step 2 substitute x ,y in first order derivatives df/dx, df/dy\n",
    "    x = symbols('x')\n",
    "    y = symbols('y')\n",
    "    dfxv = dfx.subs(x, x1) \n",
    "    dfxv = round(dfxv,2)\n",
    "    dfyv = dfy.subs(y, y1) \n",
    "    dfyv = round(dfyv,2)\n",
    "    #step3 find change in x , y\n",
    "    dx = (-1.0)*learning_rate*dfxv\n",
    "    dy = (-1.0)*learning_rate*dfyv\n",
    "    #step4 update variable \n",
    "    x1 = x1 + dx\n",
    "    x1 = round(x1, 2) \n",
    "    y1 = y1 + dy\n",
    "    y1 = round(y1, 2)\n",
    "    #step5 increment iterations \n",
    "    #step6 break loop if iterations exceed no of epoches\n",
    "#step7 print variable x1, y1\n",
    "print(x1, y1)\n",
    "print(f'minimum value obtained at x = {x1} ,y ={y1} for given function')"
   ]
  },
  {
   "cell_type": "code",
   "execution_count": null,
   "metadata": {},
   "outputs": [],
   "source": []
  },
  {
   "cell_type": "code",
   "execution_count": null,
   "metadata": {},
   "outputs": [],
   "source": []
  }
 ],
 "metadata": {
  "kernelspec": {
   "display_name": "Python 3",
   "language": "python",
   "name": "python3"
  },
  "language_info": {
   "codemirror_mode": {
    "name": "ipython",
    "version": 3
   },
   "file_extension": ".py",
   "mimetype": "text/x-python",
   "name": "python",
   "nbconvert_exporter": "python",
   "pygments_lexer": "ipython3",
   "version": "3.7.6"
  }
 },
 "nbformat": 4,
 "nbformat_minor": 4
}
