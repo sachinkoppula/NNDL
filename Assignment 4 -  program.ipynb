{
 "cells": [
  {
   "cell_type": "markdown",
   "metadata": {},
   "source": [
    "# Batch gradient descent optimisation algorithm"
   ]
  },
  {
   "cell_type": "code",
   "execution_count": 4,
   "metadata": {},
   "outputs": [
    {
     "name": "stdout",
     "output_type": "stream",
     "text": [
      "first order derivatives of given function are de/dm = -1.0*x*(-c - m*x + y) ,de/dc = 1.0*c + 1.0*m*x - 1.0*y\n",
      "1.70 3.10\n",
      "minimum value obtained at m = 1.70 ,c =3.10 for given function\n"
     ]
    }
   ],
   "source": [
    "from sympy import Symbol, Derivative, symbols\n",
    "m= Symbol('m')\n",
    "c= Symbol('c')\n",
    "function = '0.5*(y-m*x-c)**2'\n",
    "partialderiv= Derivative(function, m)\n",
    "dfm = partialderiv.doit()\n",
    "partialderiv= Derivative(function, c)\n",
    "dfc = partialderiv.doit()\n",
    "xa = [0.2,0.4,0.6,0.8,1.0,1.2]\n",
    "ya = [2.4,3.8,4.2,4.6,5.0,5.4]\n",
    "\n",
    "print(f'first order derivatives of given function are de/dm = {dfm} ,de/dc = {dfc}')\n",
    "\n",
    "#step 1 initialise values \n",
    "m1 = -1.0 \n",
    "c1 = 2.0  #variable x, y\n",
    "itr = 100  #epoches\n",
    "learning_rate = 0.1  #learning rate\n",
    "for i in range(0,itr):\n",
    "    dfmv1 = 0\n",
    "    dfcv1 = 0\n",
    "    for j in range(0,len(xa)):\n",
    "        #step 2 substitute x ,y in first order derivatives df/dx, df/dy\n",
    "        m = symbols('m')\n",
    "        c = symbols('c')\n",
    "        x = symbols('x')\n",
    "        y = symbols('y')\n",
    "        dfmv = dfm.subs(m, m1) \n",
    "        dfmv = dfmv.subs(c, c1) \n",
    "        dfmv = dfmv.subs(x, xa[j]) \n",
    "        dfmv = dfmv.subs(y, ya[j]) \n",
    "        dfmv = round(dfmv,2)\n",
    "        dfcv = dfc.subs(c, c1) \n",
    "        dfcv = dfcv.subs(m, m1) \n",
    "        dfcv = dfcv.subs(x, xa[j]) \n",
    "        dfcv = dfcv.subs(y, ya[j]) \n",
    "        dfcv = round(dfcv,2)\n",
    "        dfmv1 += dfmv\n",
    "        dfcv1 += dfcv\n",
    "    dfmv1 = dfmv1/len(xa)\n",
    "    dfcv1 = dfcv1/len(xa)\n",
    "    \n",
    "    dfmv1 = round(dfmv1,2)\n",
    "    dfcv1 = round(dfcv1,2)\n",
    "    #step3 find change in x , y\n",
    "    dm = (-1.0)*learning_rate*dfmv1\n",
    "    dc = (-1.0)*learning_rate*dfcv1\n",
    "    #step4 update variable \n",
    "    m1 = m1 + dm\n",
    "    m1 = round(m1, 2) \n",
    "    c1 = c1 + dc\n",
    "    c1 = round(c1, 2)\n",
    "    #step5 increment iterations \n",
    "    #step6 break loop if iterations exceed no of epoches\n",
    "#step7 print variable x1, y1\n",
    "print(m1, c1)\n",
    "print(f'minimum value obtained at m = {m1} ,c ={c1} for given function')"
   ]
  },
  {
   "cell_type": "code",
   "execution_count": 5,
   "metadata": {},
   "outputs": [
    {
     "data": {
      "image/png": "[encoded data removed]",
      "text/plain": [
       "<Figure size 432x288 with 1 Axes>"
      ]
     },
     "metadata": {
      "needs_background": "light"
     },
     "output_type": "display_data"
    }
   ],
   "source": [
    "import matplotlib.pyplot as plt\n",
    "import numpy as np\n",
    "x = np.linspace(-5,5,100)\n",
    "y = m1*x+c1\n",
    "plt.plot(x, y, '-r', label='y='+str(m1)+'x+'+str(c1))\n",
    "plt.title('Graph of '+'y='+str(m1)+'x+'+str(c1))\n",
    "plt.xlabel('x', color='#1C2833')\n",
    "plt.ylabel('y', color='#1C2833')\n",
    "plt.legend(loc='upper left')\n",
    "plt.grid()\n",
    "plt.show()"
   ]
  },
  {
   "cell_type": "code",
   "execution_count": null,
   "metadata": {},
   "outputs": [],
   "source": []
  }
 ],
 "metadata": {
  "kernelspec": {
   "display_name": "Python 3",
   "language": "python",
   "name": "python3"
  },
  "language_info": {
   "codemirror_mode": {
    "name": "ipython",
    "version": 3
   },
   "file_extension": ".py",
   "mimetype": "text/x-python",
   "name": "python",
   "nbconvert_exporter": "python",
   "pygments_lexer": "ipython3",
   "version": "3.7.6"
  }
 },
 "nbformat": 4,
 "nbformat_minor": 4
}
